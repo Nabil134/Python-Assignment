{
 "cells": [
  {
   "cell_type": "markdown",
   "metadata": {},
   "source": [
    "# Assignment 4"
   ]
  },
  {
   "cell_type": "code",
   "execution_count": 1,
   "metadata": {},
   "outputs": [
    {
     "name": "stdout",
     "output_type": "stream",
     "text": [
      "{'first name': 'Nabil', 'last name': 'Ashraf', 'age': 23, 'city': 'Karachi'}\n"
     ]
    }
   ],
   "source": [
    "#Program 1\n",
    "my_info = {\n",
    "    \"first name\":\"Nabil\",\n",
    "    \"last name\":\"Ashraf\",\n",
    "    \"age\":23,\n",
    "    \"city\":\"Karachi\"\n",
    "}\n",
    "print(my_info)\n",
    "my_info[\"qualification\"] = \"high academic level\"\n",
    "my_info\n",
    "del my_info[\"qualification\"]"
   ]
  },
  {
   "cell_type": "code",
   "execution_count": 2,
   "metadata": {},
   "outputs": [
    {
     "name": "stdout",
     "output_type": "stream",
     "text": [
      "{'country': 'Pakistan', 'population': 12000, 'fact': 'There are so many education sectors !'}\n",
      "{'country': 'India', 'population': 14500, 'fact': 'It is techonology hub !'}\n",
      "{'country': 'France', 'population': 199000, 'fact': 'It is beautiful place !'}\n"
     ]
    }
   ],
   "source": [
    "#Program 2\n",
    "cities = {\n",
    "    \"Hyderabad\":{\n",
    "        \"country\":\"Pakistan\",\n",
    "        \"population\":12000,\n",
    "        \"fact\":\"There are so many education sectors !\"\n",
    "    },\n",
    "    \"Banglore\":{\n",
    "        \"country\":\"India\",\n",
    "        \"population\":14500,\n",
    "        \"fact\":\"It is techonology hub !\"\n",
    "    },\n",
    "    \"Paris\":{\n",
    "        \"country\":\"France\",\n",
    "        \"population\":199000,\n",
    "        \"fact\":\"It is beautiful place !\"\n",
    "    }\n",
    "}\n",
    "print(cities[\"Hyderabad\"])\n",
    "print(cities[\"Banglore\"])\n",
    "print(cities[\"Paris\"])"
   ]
  },
  {
   "cell_type": "code",
   "execution_count": 3,
   "metadata": {},
   "outputs": [
    {
     "name": "stdout",
     "output_type": "stream",
     "text": [
      "How old are you?\n",
      "Enter 'quit' when you are finished. 5\n",
      "  Your ticket is $10.\n",
      "How old are you?\n",
      "Enter 'quit' when you are finished. quit\n"
     ]
    }
   ],
   "source": [
    "#Program 3\n",
    "prompt = \"How old are you?\"\n",
    "prompt += \"\\nEnter 'quit' when you are finished. \"\n",
    "\n",
    "while True:\n",
    "    age = input(prompt)\n",
    "    if age == 'quit':\n",
    "        break\n",
    "    age = int(age)\n",
    "\n",
    "    if age < 3:\n",
    "        print(\"  You get in free!\")\n",
    "    elif age < 13:\n",
    "        print(\"  Your ticket is $10.\")\n",
    "    else:\n",
    "        print(\"  Your ticket is $15.\")"
   ]
  },
  {
   "cell_type": "code",
   "execution_count": 4,
   "metadata": {},
   "outputs": [
    {
     "name": "stdout",
     "output_type": "stream",
     "text": [
      "One of my favourite book is:Alice in Wonderland.\n"
     ]
    }
   ],
   "source": [
    "#Program 4\n",
    "def favourite_book(title):\n",
    "    print(f'One of my favourite book is:{title}.')\n",
    "favourite_book(\"Alice in Wonderland\")"
   ]
  },
  {
   "cell_type": "code",
   "execution_count": 5,
   "metadata": {},
   "outputs": [
    {
     "name": "stdout",
     "output_type": "stream",
     "text": [
      "================HINT================\n",
      "try a number between 20 and 30\n",
      "enter your guess: 44\n",
      "choose a number between 1 and 30\n",
      "enter your guess: 4\n",
      "your guess is wrong\n",
      "============better luck next time :-)============\n",
      "enter your guess: 21\n",
      "your guess is wrong\n",
      "============better luck next time :-)============\n"
     ]
    }
   ],
   "source": [
    "#Program 5\n",
    "import random\n",
    "random=random.randint(1,30)\n",
    "print(\"================HINT================\")\n",
    "if random>= 1 and random < 10:\n",
    "    print(\"try a number between 1 and 10\")\n",
    "elif random>= 10 and random< 20:\n",
    "    print(\"try a number between 10 and 20\")\n",
    "elif random>= 20 and random< 30:\n",
    "    print(\"try a number between 20 and 30\")\n",
    "for i in range(0,3):\n",
    "    user = int(input(\"enter your guess: \"))\n",
    "    if user < 1 or user > 30:\n",
    "        print(\"choose a number between 1 and 30\")\n",
    "    else:\n",
    "        if user == random:\n",
    "            print(\"your guess is right\")\n",
    "            break\n",
    "        else:\n",
    "            print(\"your guess is wrong\")\n",
    "            print(\"============better luck next time :-)============\")"
   ]
  },
  {
   "cell_type": "code",
   "execution_count": null,
   "metadata": {},
   "outputs": [],
   "source": []
  }
 ],
 "metadata": {
  "kernelspec": {
   "display_name": "Python 3",
   "language": "python",
   "name": "python3"
  },
  "language_info": {
   "codemirror_mode": {
    "name": "ipython",
    "version": 3
   },
   "file_extension": ".py",
   "mimetype": "text/x-python",
   "name": "python",
   "nbconvert_exporter": "python",
   "pygments_lexer": "ipython3",
   "version": "3.6.7"
  }
 },
 "nbformat": 4,
 "nbformat_minor": 2
}
