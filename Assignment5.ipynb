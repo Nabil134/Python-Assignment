{
 "cells": [
  {
   "cell_type": "markdown",
   "metadata": {},
   "source": [
    "# Python Assignment 5"
   ]
  },
  {
   "cell_type": "code",
   "execution_count": 5,
   "metadata": {},
   "outputs": [
    {
     "name": "stdout",
     "output_type": "stream",
     "text": [
      "Factorial of 5 is 120\n"
     ]
    }
   ],
   "source": [
    "#Program 1\n",
    "#Definition\n",
    "def fun_1(num):\n",
    "    fact = 1\n",
    "    i = num\n",
    "    while(i >= 1):\n",
    "        fact = fact * i\n",
    "        i = i -1\n",
    "    print('Factorial of',num,'is',fact)\n",
    "    #Calling\n",
    "fun_1(5)"
   ]
  },
  {
   "cell_type": "code",
   "execution_count": 6,
   "metadata": {},
   "outputs": [
    {
     "name": "stdout",
     "output_type": "stream",
     "text": [
      "There are 1 upper case letters:\n",
      "THere are 4 lower case letters:\n"
     ]
    }
   ],
   "source": [
    "#Program 2\n",
    " #Definition\n",
    "def fun_2(string):\n",
    "    upper_case = 0\n",
    "    lower_case = 0\n",
    "    for i in string:\n",
    "        if i == i.upper():\n",
    "            upper_case += 1\n",
    "        elif i == i.lower():\n",
    "            lower_case += 1\n",
    "    print(f'There are {upper_case} upper case letters:')\n",
    "    print(f'THere are {lower_case} lower case letters:')\n",
    "    #Calling\n",
    "fun_2('Nabil')"
   ]
  },
  {
   "cell_type": "code",
   "execution_count": 7,
   "metadata": {},
   "outputs": [
    {
     "name": "stdout",
     "output_type": "stream",
     "text": [
      "22\n",
      "44\n",
      "90\n"
     ]
    }
   ],
   "source": [
    "#Program 3\n",
    " #Definition\n",
    "def fun_3(num):\n",
    "    for i in num:\n",
    "        if i % 2 == 0:\n",
    "            print(i)\n",
    "            #Calling\n",
    "fun_3([22,44,55,77,90])"
   ]
  },
  {
   "cell_type": "code",
   "execution_count": 8,
   "metadata": {},
   "outputs": [
    {
     "name": "stdout",
     "output_type": "stream",
     "text": [
      "It is Palindrome:\n",
      "It is not Palindrame:\n"
     ]
    }
   ],
   "source": [
    "#Program 4\n",
    " #Definition\n",
    "def fun_4(string):\n",
    "    if string == string[::-1]:\n",
    "        print('It is Palindrome:')\n",
    "    else:\n",
    "        print('It is not Palindrame:')\n",
    "        #calling\n",
    "fun_4('madam')\n",
    "fun_4('nabil')"
   ]
  },
  {
   "cell_type": "code",
   "execution_count": 9,
   "metadata": {},
   "outputs": [
    {
     "name": "stdout",
     "output_type": "stream",
     "text": [
      "9 is not a prime number\n",
      "13 is a prime number !\n"
     ]
    }
   ],
   "source": [
    "#Program 5\n",
    " #Definition\n",
    "def check_prime(num):\n",
    "    flag = True\n",
    "    if num > 1:  \n",
    "        for i in range(2,num):  \n",
    "            if (num % i) == 0:  \n",
    "                print(num,\"is not a prime number\")  \n",
    "                flag = False\n",
    "                break  \n",
    "        if flag:\n",
    "            print(num, \"is a prime number !\")\n",
    "\n",
    "    else:\n",
    "        print(num, \"is not a prime number\")\n",
    "\n",
    "    # Calling\n",
    "check_prime(9)\n",
    "check_prime(13)"
   ]
  },
  {
   "cell_type": "code",
   "execution_count": 11,
   "metadata": {},
   "outputs": [
    {
     "name": "stdout",
     "output_type": "stream",
     "text": [
      "Items: \n",
      "\n",
      "Pizza\n",
      "Laptop\n",
      "Bread\n",
      "Bag\n"
     ]
    }
   ],
   "source": [
    "#Program 6\n",
    "#Definition\n",
    "def shopping(*items):\n",
    "    print('Items: \\n')\n",
    "    for item in items:\n",
    "        print(item)\n",
    "        #calling\n",
    "shopping('Pizza','Laptop','Bread','Bag')"
   ]
  },
  {
   "cell_type": "code",
   "execution_count": null,
   "metadata": {},
   "outputs": [],
   "source": []
  }
 ],
 "metadata": {
  "kernelspec": {
   "display_name": "Python 3",
   "language": "python",
   "name": "python3"
  },
  "language_info": {
   "codemirror_mode": {
    "name": "ipython",
    "version": 3
   },
   "file_extension": ".py",
   "mimetype": "text/x-python",
   "name": "python",
   "nbconvert_exporter": "python",
   "pygments_lexer": "ipython3",
   "version": "3.6.7"
  }
 },
 "nbformat": 4,
 "nbformat_minor": 2
}
