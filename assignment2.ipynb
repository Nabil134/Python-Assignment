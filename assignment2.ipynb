{
 "cells": [
  {
   "cell_type": "code",
   "execution_count": 1,
   "metadata": {},
   "outputs": [
    {
     "name": "stdout",
     "output_type": "stream",
     "text": [
      "Enter marks of each subject to generate marksheet :\n",
      "English : 85\n",
      "Mathematics : 90\n",
      "Programming : 80\n",
      "Electronics : 70\n",
      "Java : 85\n",
      "\n",
      "Marksheet :\n",
      "_______________________________________________\n",
      "Subject :\t Obtained Marks : \t Total Marks :  \n",
      "_______________________________________________\n",
      " English : \t 85.0     \t : \t\t 100:\n",
      " Mathematics :  90.0     \t : \t\t 100 :\n",
      " Programming :  80.0     \t : \t\t 100:\n",
      " Electronics : \t 70.0     \t : \t\t 100:\n",
      " Java      : \t 85.0     \t : \t\t 100:\n",
      "_______________________________________________\n",
      "Total     : \t 325.0     \t : \t\t 500      :\n",
      "Grade Obtained : B\n",
      "_______________________________________________\n"
     ]
    }
   ],
   "source": [
    "# 1st Program \n",
    "# Q : Write a program which takes 5 inputs from user for different subject’s marks, total it and generate mark sheet using grades ?    \n",
    "    \n",
    "# Take input\n",
    "msg = \"Enter marks of each subject to generate marksheet :\\n\"\n",
    "english           = float (input(msg + \"English : \"))\n",
    "maths             = float (input(\"Mathematics : \"))\n",
    "programming = float (input(\"Programming : \"))\n",
    "electronics     = float (input(\"Electronics : \"))\n",
    "java                = float (input(\"Java : \"))\n",
    "total = maths + programming + electronics + java\n",
    "per = (total/500)*100\n",
    "\n",
    "#Conditions For Grade\n",
    "if per >= 80 and per <= 100:\n",
    "    grade = 'A'\n",
    "elif per >= 60 and per <80:\n",
    "    grade = 'B'\n",
    "elif per >= 40 and per <60:\n",
    "    grade = 'C'\n",
    "elif per < 40:\n",
    "    grade = 'D'\n",
    "\n",
    "# Marksheet\n",
    "print(\"\\nMarksheet :\")\n",
    "print(\"_______________________________________________\")\n",
    "print(\"Subject :\\t Obtained Marks : \\t Total Marks :  \")\n",
    "print(\"_______________________________________________\")\n",
    "print(f\" English : \\t {english}     \\t : \\t\\t 100:\")\n",
    "print(f\" Mathematics :  {maths}     \\t : \\t\\t 100 :\")\n",
    "print(f\" Programming :  {programming}     \\t : \\t\\t 100:\")\n",
    "print(f\" Electronics : \\t {electronics}     \\t : \\t\\t 100:\")\n",
    "print(f\" Java      : \\t {java}     \\t : \\t\\t 100:\")\n",
    "print(\"_______________________________________________\")\n",
    "print(f\"Total     : \\t {total}     \\t : \\t\\t 500      :\")\n",
    "print(f\"Grade Obtained : {grade}\")\n",
    "print(\"_______________________________________________\")"
   ]
  },
  {
   "cell_type": "code",
   "execution_count": 2,
   "metadata": {},
   "outputs": [
    {
     "name": "stdout",
     "output_type": "stream",
     "text": [
      "Enter a number to check : 3\n",
      "Number is odd !\n"
     ]
    }
   ],
   "source": [
    "# 2nd Program\n",
    "# Q : Write a program which take input from user and identify that the given number is even or odd?\n",
    "\n",
    "num = int(input(\"Enter a number to check : \"))\n",
    "# Conditions\n",
    "if num%2 == 0:\n",
    "    print(\"Number is even !\")\n",
    "elif num%2 != 0:\n",
    "    print(\"Number is odd !\")"
   ]
  },
  {
   "cell_type": "code",
   "execution_count": 3,
   "metadata": {},
   "outputs": [
    {
     "name": "stdout",
     "output_type": "stream",
     "text": [
      "5\n"
     ]
    }
   ],
   "source": [
    "# 3rd Program\n",
    "# Q : Write a program which print the length of the list?\n",
    "\n",
    "mylist = [1, 2, 3, 4, 5]\n",
    "print(len(mylist))"
   ]
  },
  {
   "cell_type": "code",
   "execution_count": 4,
   "metadata": {},
   "outputs": [
    {
     "name": "stdout",
     "output_type": "stream",
     "text": [
      "22\n"
     ]
    }
   ],
   "source": [
    "# 4th Program\n",
    "# Q : Write a Python program to sum all the numeric items in a list?\n",
    "sum = 0\n",
    "mylist = [1, 2, 3, 4, 5, 7]\n",
    "for num in mylist:\n",
    "    sum = sum + num\n",
    "    \n",
    "print(sum)"
   ]
  },
  {
   "cell_type": "code",
   "execution_count": 5,
   "metadata": {},
   "outputs": [
    {
     "data": {
      "text/plain": [
       "59"
      ]
     },
     "execution_count": 5,
     "metadata": {},
     "output_type": "execute_result"
    }
   ],
   "source": [
    "# 5th Program\n",
    "# Q : Write a Python program to get the largest number from a numeric list.\n",
    "mylist = [1, 1, 2, 3, 4, 5, 1, 2, 59, 48, 2, 1, 14]\n",
    "max(mylist)"
   ]
  },
  {
   "cell_type": "code",
   "execution_count": 6,
   "metadata": {},
   "outputs": [
    {
     "name": "stdout",
     "output_type": "stream",
     "text": [
      "1\n",
      "1\n",
      "2\n",
      "3\n"
     ]
    }
   ],
   "source": [
    "# 6th Program\n",
    "'''\n",
    "Q : Take a list, say for example this one:\n",
    "a = [1, 1, 2, 3, 5, 8, 13, 21, 34, 55, 89]\n",
    "and write a program that prints out all the elements of the list that are less than 5.\n",
    "'''\n",
    "\n",
    "a = [1, 1, 2, 3, 5, 8, 13, 21, 34, 56, 99]\n",
    "for num in a:\n",
    "    if num < 5:\n",
    "        print(num)"
   ]
  },
  {
   "cell_type": "code",
   "execution_count": null,
   "metadata": {},
   "outputs": [],
   "source": []
  }
 ],
 "metadata": {
  "kernelspec": {
   "display_name": "Python 3",
   "language": "python",
   "name": "python3"
  },
  "language_info": {
   "codemirror_mode": {
    "name": "ipython",
    "version": 3
   },
   "file_extension": ".py",
   "mimetype": "text/x-python",
   "name": "python",
   "nbconvert_exporter": "python",
   "pygments_lexer": "ipython3",
   "version": "3.7.3"
  }
 },
 "nbformat": 4,
 "nbformat_minor": 2
}
