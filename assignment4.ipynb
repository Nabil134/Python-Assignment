{
 "cells": [
  {
   "cell_type": "markdown",
   "metadata": {},
   "source": [
    "# Assignment 4"
   ]
  },
  {
   "cell_type": "code",
   "execution_count": 1,
   "metadata": {},
   "outputs": [
    {
     "name": "stdout",
     "output_type": "stream",
     "text": [
      "{'first name': 'Nabil', 'last name': 'Ashraf', 'age': 23, 'city': 'Karachi'}\n"
     ]
    }
   ],
   "source": [
    "#Program 1\n",
    "my_info = {\n",
    "    \"first name\":\"Nabil\",\n",
    "    \"last name\":\"Ashraf\",\n",
    "    \"age\":23,\n",
    "    \"city\":\"Karachi\"\n",
    "}\n",
    "print(my_info)\n",
    "my_info[\"qualification\"] = \"high academic level\"\n",
    "my_info\n",
    "del my_info[\"qualification\"]"
   ]
  },
  {
   "cell_type": "code",
   "execution_count": 2,
   "metadata": {},
   "outputs": [
    {
     "name": "stdout",
     "output_type": "stream",
     "text": [
      "{'country': 'Pakistan', 'population': 12000, 'fact': 'There are so many education sectors !'}\n",
      "{'country': 'India', 'population': 14500, 'fact': 'It is techonology hub !'}\n",
      "{'country': 'France', 'population': 199000, 'fact': 'It is beautiful place !'}\n"
     ]
    }
   ],
   "source": [
    "#Program 2\n",
    "cities = {\n",
    "    \"Hyderabad\":{\n",
    "        \"country\":\"Pakistan\",\n",
    "        \"population\":12000,\n",
    "        \"fact\":\"There are so many education sectors !\"\n",
    "    },\n",
    "    \"Banglore\":{\n",
    "        \"country\":\"India\",\n",
    "        \"population\":14500,\n",
    "        \"fact\":\"It is techonology hub !\"\n",
    "    },\n",
    "    \"Paris\":{\n",
    "        \"country\":\"France\",\n",
    "        \"population\":199000,\n",
    "        \"fact\":\"It is beautiful place !\"\n",
    "    }\n",
    "}\n",
    "print(cities[\"Hyderabad\"])\n",
    "print(cities[\"Banglore\"])\n",
    "print(cities[\"Paris\"])"
   ]
  },
  {
   "cell_type": "code",
   "execution_count": 3,
   "metadata": {},
   "outputs": [
    {
     "name": "stdout",
     "output_type": "stream",
     "text": [
      "One of my favourite book is:Alice in Wonderland.\n"
     ]
    }
   ],
   "source": [
    "#Program 4\n",
    "def favourite_book(title):\n",
    "    print(f'One of my favourite book is:{title}.')\n",
    "favourite_book(\"Alice in Wonderland\")"
   ]
  },
  {
   "cell_type": "code",
   "execution_count": null,
   "metadata": {},
   "outputs": [
    {
     "name": "stdout",
     "output_type": "stream",
     "text": [
      "\n",
      "\tYou have 3 chances to guess the hidden number (from 1 to 30): 2\n",
      "\tYour guess is less than the hidden number !\n"
     ]
    }
   ],
   "source": [
    "#Program 5\n",
    "import random as rd\n",
    "i = 3\n",
    "while i > 0:\n",
    "    correct_num = rd.randint(1,30)\n",
    "    user_num = int(input(f\"\\n\\tYou have {i} chances to guess the hidden number (from 1 to 30): \"))\n",
    "    \n",
    "    if user_num == correct_num:\n",
    "        print(\"\\t***Congrats ! Correct Guess, You Won*** :)\")\n",
    "        break\n",
    "    elif user_num > correct_num:\n",
    "        print(\"\\tYour guess is greater than the hidden number !\")\n",
    "        i -= 1\n",
    "    elif user_num < correct_num:\n",
    "        print(\"\\tYour guess is less than the hidden number !\")\n",
    "        i-=1\n",
    "    elif user_num < 1 or user_num > 30:\n",
    "        print(\"\\tPlease enter number in range 1 to 30 !\")\n",
    "        \n",
    "if i == 0:\n",
    "    print(f\"\\n\\tYou Lost ! :(  Hidden Number was {correct_num}\")"
   ]
  },
  {
   "cell_type": "code",
   "execution_count": null,
   "metadata": {},
   "outputs": [],
   "source": [
    "#Program 3\n",
    "while 1 == 1:\n",
    "    age = input(\"Enter your age:\")\n",
    "    age = int(age)\n",
    "    if age < 3:\n",
    "        print(\"Your Ticket is free !\")\n",
    "    elif age >= 3 and age <= 12:\n",
    "        print(\"Your Ticket is 10$ !\")\n",
    "    elif age > 12:\n",
    "        print(\"Your Ticket is 15$ !\")"
   ]
  },
  {
   "cell_type": "code",
   "execution_count": null,
   "metadata": {},
   "outputs": [],
   "source": []
  }
 ],
 "metadata": {
  "kernelspec": {
   "display_name": "Python 3",
   "language": "python",
   "name": "python3"
  },
  "language_info": {
   "codemirror_mode": {
    "name": "ipython",
    "version": 3
   },
   "file_extension": ".py",
   "mimetype": "text/x-python",
   "name": "python",
   "nbconvert_exporter": "python",
   "pygments_lexer": "ipython3",
   "version": "3.6.7"
  }
 },
 "nbformat": 4,
 "nbformat_minor": 2
}
